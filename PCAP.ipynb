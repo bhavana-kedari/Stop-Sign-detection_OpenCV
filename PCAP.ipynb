{
  "cells": [
    {
      "cell_type": "markdown",
      "metadata": {
        "id": "view-in-github",
        "colab_type": "text"
      },
      "source": [
        "<a href=\"https://colab.research.google.com/github/bhavana-kedari/Stop-Sign-detection_OpenCV/blob/master/PCAP.ipynb\" target=\"_parent\"><img src=\"https://colab.research.google.com/assets/colab-badge.svg\" alt=\"Open In Colab\"/></a>"
      ]
    },
    {
      "cell_type": "code",
      "execution_count": 1,
      "metadata": {
        "colab": {
          "base_uri": "https://localhost:8080/"
        },
        "id": "xjEZg1WCHiyr",
        "outputId": "fa1e9481-d290-453a-ebf2-246bfbc945c4"
      },
      "outputs": [
        {
          "output_type": "stream",
          "name": "stdout",
          "text": [
            "/content\n"
          ]
        }
      ],
      "source": [
        "!pwd"
      ]
    },
    {
      "cell_type": "code",
      "execution_count": 2,
      "metadata": {
        "colab": {
          "base_uri": "https://localhost:8080/"
        },
        "id": "JaFFF2oDHs6S",
        "outputId": "7cd5302e-c2a0-4e2a-e1c6-f1a5389ce9db"
      },
      "outputs": [
        {
          "output_type": "stream",
          "name": "stdout",
          "text": [
            "nvcc: NVIDIA (R) Cuda compiler driver\n",
            "Copyright (c) 2005-2022 NVIDIA Corporation\n",
            "Built on Wed_Sep_21_10:33:58_PDT_2022\n",
            "Cuda compilation tools, release 11.8, V11.8.89\n",
            "Build cuda_11.8.r11.8/compiler.31833905_0\n"
          ]
        }
      ],
      "source": [
        "!nvcc --version"
      ]
    },
    {
      "cell_type": "code",
      "execution_count": 3,
      "metadata": {
        "colab": {
          "base_uri": "https://localhost:8080/"
        },
        "id": "adhSFcUdHwVQ",
        "outputId": "d3b2517c-817e-4dfd-914d-f686a9da4354"
      },
      "outputs": [
        {
          "output_type": "stream",
          "name": "stdout",
          "text": [
            "Collecting git+https://github.com/andreinechaev/nvcc4jupyter.git\n",
            "  Cloning https://github.com/andreinechaev/nvcc4jupyter.git to /tmp/pip-req-build-2sodil93\n",
            "  Running command git clone --filter=blob:none --quiet https://github.com/andreinechaev/nvcc4jupyter.git /tmp/pip-req-build-2sodil93\n",
            "  Resolved https://github.com/andreinechaev/nvcc4jupyter.git to commit 0a71d56e5dce3ff1f0dd2c47c29367629262f527\n",
            "  Preparing metadata (setup.py) ... \u001b[?25l\u001b[?25hdone\n",
            "Building wheels for collected packages: NVCCPlugin\n",
            "  Building wheel for NVCCPlugin (setup.py) ... \u001b[?25l\u001b[?25hdone\n",
            "  Created wheel for NVCCPlugin: filename=NVCCPlugin-0.0.2-py3-none-any.whl size=4294 sha256=af47975edc34e8a8e0613f2b2b7755a4424bd2c7558a6cf6e6149784bc77fdd3\n",
            "  Stored in directory: /tmp/pip-ephem-wheel-cache-htu6tayo/wheels/a8/b9/18/23f8ef71ceb0f63297dd1903aedd067e6243a68ea756d6feea\n",
            "Successfully built NVCCPlugin\n",
            "Installing collected packages: NVCCPlugin\n",
            "Successfully installed NVCCPlugin-0.0.2\n"
          ]
        }
      ],
      "source": [
        "! pip install git+https://github.com/andreinechaev/nvcc4jupyter.git"
      ]
    },
    {
      "cell_type": "code",
      "execution_count": 4,
      "metadata": {
        "colab": {
          "base_uri": "https://localhost:8080/"
        },
        "id": "2PK2P7IFIadn",
        "outputId": "b641f570-fb2b-4131-81fd-0f68a6e1814e"
      },
      "outputs": [
        {
          "output_type": "stream",
          "name": "stdout",
          "text": [
            "created output directory at /content/src\n",
            "Out bin /content/result.out\n"
          ]
        }
      ],
      "source": [
        "%load_ext nvcc_plugin"
      ]
    },
    {
      "cell_type": "code",
      "source": [
        "%cd /content"
      ],
      "metadata": {
        "colab": {
          "base_uri": "https://localhost:8080/"
        },
        "id": "jRNfdu3pkKpS",
        "outputId": "e3924f9e-729a-4f27-f5d6-7ad8121fe2f3"
      },
      "execution_count": 5,
      "outputs": [
        {
          "output_type": "stream",
          "name": "stdout",
          "text": [
            "/content\n"
          ]
        }
      ]
    },
    {
      "cell_type": "code",
      "source": [
        "!rm -r PCAP-AIML-2023"
      ],
      "metadata": {
        "colab": {
          "base_uri": "https://localhost:8080/"
        },
        "id": "9Q4PwirGkNQx",
        "outputId": "27c321ce-18f7-4859-8e7f-86b39a43c428"
      },
      "execution_count": 6,
      "outputs": [
        {
          "output_type": "stream",
          "name": "stdout",
          "text": [
            "rm: cannot remove 'PCAP-AIML-2023': No such file or directory\n"
          ]
        }
      ]
    },
    {
      "cell_type": "code",
      "execution_count": 7,
      "metadata": {
        "colab": {
          "base_uri": "https://localhost:8080/"
        },
        "id": "zWpfHOfTVnj0",
        "outputId": "396e6a6f-15f0-439a-a128-a76cf8b9aa1b"
      },
      "outputs": [
        {
          "output_type": "stream",
          "name": "stdout",
          "text": [
            "Cloning into 'PCAP-AIML-2023'...\n",
            "remote: Enumerating objects: 118, done.\u001b[K\n",
            "remote: Counting objects: 100% (118/118), done.\u001b[K\n",
            "remote: Compressing objects: 100% (116/116), done.\u001b[K\n",
            "remote: Total 118 (delta 49), reused 66 (delta 1), pack-reused 0\u001b[K\n",
            "Receiving objects: 100% (118/118), 571.94 KiB | 5.25 MiB/s, done.\n",
            "Resolving deltas: 100% (49/49), done.\n"
          ]
        }
      ],
      "source": [
        "!git clone https://github.com/PRAKASH-KALINGRAO-AITHAL/PCAP-AIML-2023.git"
      ]
    },
    {
      "cell_type": "code",
      "execution_count": 8,
      "metadata": {
        "colab": {
          "base_uri": "https://localhost:8080/"
        },
        "id": "VAxgNcuwVo3S",
        "outputId": "359aff88-2f49-49c3-c72d-6cc2fea2c489"
      },
      "outputs": [
        {
          "output_type": "stream",
          "name": "stdout",
          "text": [
            "/content/PCAP-AIML-2023\n"
          ]
        }
      ],
      "source": [
        "%cd PCAP-AIML-2023\n"
      ]
    },
    {
      "cell_type": "code",
      "source": [
        "!ls"
      ],
      "metadata": {
        "colab": {
          "base_uri": "https://localhost:8080/"
        },
        "id": "x69bxEMukP9M",
        "outputId": "bd4c42d6-6a66-4620-9955-004a5e968cea"
      },
      "execution_count": 9,
      "outputs": [
        {
          "output_type": "stream",
          "name": "stdout",
          "text": [
            "Lena.jpeg  README.md  rgbToGray  rgbToGray.sln\tstb_image.h  stb_image_resize.h  stb_image_write.h\n"
          ]
        }
      ]
    },
    {
      "cell_type": "code",
      "source": [
        "!/content/src/pcap.out"
      ],
      "metadata": {
        "colab": {
          "base_uri": "https://localhost:8080/"
        },
        "id": "IBWLcVo7m6PV",
        "outputId": "8eb84fff-e12a-4e08-ecf0-5e7c9cab71e9"
      },
      "execution_count": 10,
      "outputs": [
        {
          "output_type": "stream",
          "name": "stdout",
          "text": [
            "/bin/bash: line 1: /content/src/pcap.out: No such file or directory\n"
          ]
        }
      ]
    },
    {
      "cell_type": "code",
      "source": [
        "!apt-get --purge remove cuda\n",
        "!dpkg -l | grep cuda- | awk '{print $2}' | xargs -n1 dpkg --purge\n",
        "!apt-get -y install cuda"
      ],
      "metadata": {
        "colab": {
          "base_uri": "https://localhost:8080/"
        },
        "id": "PSpXxoTenTMK",
        "outputId": "32a21617-3883-4157-dbfc-27752b6b6765"
      },
      "execution_count": 11,
      "outputs": [
        {
          "output_type": "stream",
          "name": "stdout",
          "text": [
            "Reading package lists... Done\n",
            "Building dependency tree... Done\n",
            "Reading state information... Done\n",
            "Package 'cuda' is not installed, so not removed\n",
            "0 upgraded, 0 newly installed, 0 to remove and 8 not upgraded.\n",
            "\u001b[1mdpkg:\u001b[0m dependency problems prevent removal of cuda-cccl-11-8:\n",
            " cuda-minimal-build-11-8 depends on cuda-cccl-11-8 (>= 11.8.89).\n",
            " cuda-libraries-dev-11-8 depends on cuda-cccl-11-8 (>= 11.8.89).\n",
            " cuda-cudart-dev-11-8 depends on cuda-cccl-11-8.\n",
            "\n",
            "\u001b[1mdpkg:\u001b[0m error processing package cuda-cccl-11-8 (--purge):\n",
            " dependency problems - not removing\n",
            "Errors were encountered while processing:\n",
            " cuda-cccl-11-8\n",
            "(Reading database ... 120880 files and directories currently installed.)\n",
            "Removing cuda-command-line-tools-11-8 (11.8.0-1) ...\n",
            "(Reading database ... 120878 files and directories currently installed.)\n",
            "Removing cuda-compat-11-8 (520.61.05-1) ...\n",
            "Processing triggers for libc-bin (2.35-0ubuntu3.4) ...\n",
            "/sbin/ldconfig.real: /usr/local/lib/libtbb.so.12 is not a symbolic link\n",
            "\n",
            "/sbin/ldconfig.real: /usr/local/lib/libtbbbind_2_5.so.3 is not a symbolic link\n",
            "\n",
            "/sbin/ldconfig.real: /usr/local/lib/libtbbmalloc_proxy.so.2 is not a symbolic link\n",
            "\n",
            "/sbin/ldconfig.real: /usr/local/lib/libtbbbind.so.3 is not a symbolic link\n",
            "\n",
            "/sbin/ldconfig.real: /usr/local/lib/libtbbmalloc.so.2 is not a symbolic link\n",
            "\n",
            "/sbin/ldconfig.real: /usr/local/lib/libtbbbind_2_0.so.3 is not a symbolic link\n",
            "\n",
            "\u001b[1mdpkg:\u001b[0m dependency problems prevent removal of cuda-compiler-11-8:\n",
            " cuda-minimal-build-11-8 depends on cuda-compiler-11-8 (>= 11.8.0).\n",
            "\n",
            "\u001b[1mdpkg:\u001b[0m error processing package cuda-compiler-11-8 (--purge):\n",
            " dependency problems - not removing\n",
            "Errors were encountered while processing:\n",
            " cuda-compiler-11-8\n",
            "\u001b[1mdpkg:\u001b[0m dependency problems prevent removal of cuda-cudart-11-8:\n",
            " cuda-libraries-11-8 depends on cuda-cudart-11-8 (>= 11.8.89).\n",
            " cuda-cudart-dev-11-8 depends on cuda-cudart-11-8 (>= 11.8.89).\n",
            "\n",
            "\u001b[1mdpkg:\u001b[0m error processing package cuda-cudart-11-8 (--purge):\n",
            " dependency problems - not removing\n",
            "Errors were encountered while processing:\n",
            " cuda-cudart-11-8\n",
            "\u001b[1mdpkg:\u001b[0m dependency problems prevent removal of cuda-cudart-dev-11-8:\n",
            " cuda-nvcc-11-8 depends on cuda-cudart-dev-11-8.\n",
            " cuda-minimal-build-11-8 depends on cuda-cudart-dev-11-8 (>= 11.8.89).\n",
            " cuda-libraries-dev-11-8 depends on cuda-cudart-dev-11-8 (>= 11.8.89).\n",
            "\n",
            "\u001b[1mdpkg:\u001b[0m error processing package cuda-cudart-dev-11-8 (--purge):\n",
            " dependency problems - not removing\n",
            "Errors were encountered while processing:\n",
            " cuda-cudart-dev-11-8\n",
            "\u001b[1mdpkg:\u001b[0m dependency problems prevent removal of cuda-cuobjdump-11-8:\n",
            " cuda-gdb-11-8 depends on cuda-cuobjdump-11-8.\n",
            " cuda-compiler-11-8 depends on cuda-cuobjdump-11-8 (>= 11.8.86).\n",
            "\n",
            "\u001b[1mdpkg:\u001b[0m error processing package cuda-cuobjdump-11-8 (--purge):\n",
            " dependency problems - not removing\n",
            "Errors were encountered while processing:\n",
            " cuda-cuobjdump-11-8\n",
            "\u001b[1mdpkg:\u001b[0m dependency problems prevent removal of cuda-cupti-11-8:\n",
            " cuda-cupti-dev-11-8 depends on cuda-cupti-11-8 (>= 11.8.87).\n",
            "\n",
            "\u001b[1mdpkg:\u001b[0m error processing package cuda-cupti-11-8 (--purge):\n",
            " dependency problems - not removing\n",
            "Errors were encountered while processing:\n",
            " cuda-cupti-11-8\n",
            "(Reading database ... 120865 files and directories currently installed.)\n",
            "Removing cuda-cupti-dev-11-8 (11.8.87-1) ...\n",
            "\u001b[1mdpkg:\u001b[0m dependency problems prevent removal of cuda-cuxxfilt-11-8:\n",
            " cuda-compiler-11-8 depends on cuda-cuxxfilt-11-8 (>= 11.8.86).\n",
            "\n",
            "\u001b[1mdpkg:\u001b[0m error processing package cuda-cuxxfilt-11-8 (--purge):\n",
            " dependency problems - not removing\n",
            "Errors were encountered while processing:\n",
            " cuda-cuxxfilt-11-8\n",
            "\u001b[1mdpkg:\u001b[0m dependency problems prevent removal of cuda-driver-dev-11-8:\n",
            " cuda-libraries-dev-11-8 depends on cuda-driver-dev-11-8 (>= 11.8.89).\n",
            " cuda-cudart-dev-11-8 depends on cuda-driver-dev-11-8 (>= 11.8.89).\n",
            "\n",
            "\u001b[1mdpkg:\u001b[0m error processing package cuda-driver-dev-11-8 (--purge):\n",
            " dependency problems - not removing\n",
            "Errors were encountered while processing:\n",
            " cuda-driver-dev-11-8\n",
            "(Reading database ... 120375 files and directories currently installed.)\n",
            "Removing cuda-gdb-11-8 (11.8.86-1) ...\n",
            "(Reading database ... 120310 files and directories currently installed.)\n",
            "Removing cuda-keyring (1.0-1) ...\n",
            "Purging configuration files for cuda-keyring (1.0-1) ...\n",
            "(Reading database ... 120305 files and directories currently installed.)\n",
            "Removing cuda-libraries-11-8 (11.8.0-1) ...\n",
            "(Reading database ... 120303 files and directories currently installed.)\n",
            "Removing cuda-libraries-dev-11-8 (11.8.0-1) ...\n",
            "(Reading database ... 120301 files and directories currently installed.)\n",
            "Removing cuda-memcheck-11-8 (11.8.86-1) ...\n",
            "(Reading database ... 120297 files and directories currently installed.)\n",
            "Removing cuda-minimal-build-11-8 (11.8.0-1) ...\n",
            "(Reading database ... 120295 files and directories currently installed.)\n",
            "Removing cuda-nsight-compute-11-8 (11.8.0-1) ...\n",
            "\u001b[1mdpkg:\u001b[0m dependency problems prevent removal of cuda-nvcc-11-8:\n",
            " cuda-compiler-11-8 depends on cuda-nvcc-11-8 (>= 11.8.89).\n",
            "\n",
            "\u001b[1mdpkg:\u001b[0m error processing package cuda-nvcc-11-8 (--purge):\n",
            " dependency problems - not removing\n",
            "Errors were encountered while processing:\n",
            " cuda-nvcc-11-8\n",
            "(Reading database ... 120289 files and directories currently installed.)\n",
            "Removing cuda-nvdisasm-11-8 (11.8.86-1) ...\n",
            "(Reading database ... 120285 files and directories currently installed.)\n",
            "Removing cuda-nvml-dev-11-8 (11.8.86-1) ...\n",
            "(Reading database ... 120273 files and directories currently installed.)\n",
            "Removing cuda-nvprof-11-8 (11.8.87-1) ...\n",
            "\u001b[1mdpkg:\u001b[0m dependency problems prevent removal of cuda-nvprune-11-8:\n",
            " cuda-compiler-11-8 depends on cuda-nvprune-11-8 (>= 11.8.86).\n",
            "\n",
            "\u001b[1mdpkg:\u001b[0m error processing package cuda-nvprune-11-8 (--purge):\n",
            " dependency problems - not removing\n",
            "Errors were encountered while processing:\n",
            " cuda-nvprune-11-8\n",
            "\u001b[1mdpkg:\u001b[0m dependency problems prevent removal of cuda-nvrtc-11-8:\n",
            " cuda-nvrtc-dev-11-8 depends on cuda-nvrtc-11-8 (>= 11.8.89).\n",
            "\n",
            "\u001b[1mdpkg:\u001b[0m error processing package cuda-nvrtc-11-8 (--purge):\n",
            " dependency problems - not removing\n",
            "Errors were encountered while processing:\n",
            " cuda-nvrtc-11-8\n",
            "(Reading database ... 120261 files and directories currently installed.)\n",
            "Removing cuda-nvrtc-dev-11-8 (11.8.89-1) ...\n",
            "(Reading database ... 120251 files and directories currently installed.)\n",
            "Removing cuda-nvtx-11-8 (11.8.86-1) ...\n",
            "(Reading database ... 120221 files and directories currently installed.)\n",
            "Removing cuda-profiler-api-11-8 (11.8.86-1) ...\n",
            "(Reading database ... 120216 files and directories currently installed.)\n",
            "Removing cuda-sanitizer-11-8 (11.8.86-1) ...\n",
            "\u001b[1mdpkg:\u001b[0m dependency problems prevent removal of cuda-toolkit-11-8-config-common:\n",
            " libnvjpeg-11-8 depends on cuda-toolkit-11-8-config-common.\n",
            " libnpp-11-8 depends on cuda-toolkit-11-8-config-common.\n",
            " libcusparse-11-8 depends on cuda-toolkit-11-8-config-common.\n",
            " libcusolver-11-8 depends on cuda-toolkit-11-8-config-common.\n",
            " libcurand-11-8 depends on cuda-toolkit-11-8-config-common.\n",
            " libcufile-11-8 depends on cuda-toolkit-11-8-config-common.\n",
            " libcufft-11-8 depends on cuda-toolkit-11-8-config-common.\n",
            " libcublas-11-8 depends on cuda-toolkit-11-8-config-common.\n",
            " cuda-cudart-11-8 depends on cuda-toolkit-11-8-config-common.\n",
            "\n",
            "\u001b[1mdpkg:\u001b[0m error processing package cuda-toolkit-11-8-config-common (--purge):\n",
            " dependency problems - not removing\n",
            "Errors were encountered while processing:\n",
            " cuda-toolkit-11-8-config-common\n",
            "\u001b[1mdpkg:\u001b[0m dependency problems prevent removal of cuda-toolkit-11-config-common:\n",
            " libnvjpeg-11-8 depends on cuda-toolkit-11-config-common | cuda-cudart-11-2; however:\n",
            "  Package cuda-toolkit-11-config-common is to be removed.\n",
            "  Package cuda-cudart-11-2 is not installed.\n",
            " libnpp-11-8 depends on cuda-toolkit-11-config-common | cuda-cudart-11-2; however:\n",
            "  Package cuda-toolkit-11-config-common is to be removed.\n",
            "  Package cuda-cudart-11-2 is not installed.\n",
            " libcusparse-11-8 depends on cuda-toolkit-11-config-common | cuda-cudart-11-2; however:\n",
            "  Package cuda-toolkit-11-config-common is to be removed.\n",
            "  Package cuda-cudart-11-2 is not installed.\n",
            " libcusolver-11-8 depends on cuda-toolkit-11-config-common | cuda-cudart-11-2; however:\n",
            "  Package cuda-toolkit-11-config-common is to be removed.\n",
            "  Package cuda-cudart-11-2 is not installed.\n",
            " libcurand-11-8 depends on cuda-toolkit-11-config-common | cuda-cudart-11-2; however:\n",
            "  Package cuda-toolkit-11-config-common is to be removed.\n",
            "  Package cuda-cudart-11-2 is not installed.\n",
            " libcufile-11-8 depends on cuda-toolkit-11-config-common | cuda-cudart-11-2; however:\n",
            "  Package cuda-toolkit-11-config-common is to be removed.\n",
            "  Package cuda-cudart-11-2 is not installed.\n",
            " libcufft-11-8 depends on cuda-toolkit-11-config-common | cuda-cudart-11-2; however:\n",
            "  Package cuda-toolkit-11-config-common is to be removed.\n",
            "  Package cuda-cudart-11-2 is not installed.\n",
            " libcublas-11-8 depends on cuda-toolkit-11-config-common | cuda-cudart-11-2; however:\n",
            "  Package cuda-toolkit-11-config-common is to be removed.\n",
            "  Package cuda-cudart-11-2 is not installed.\n",
            " cuda-cudart-11-8 depends on cuda-toolkit-11-config-common | cuda-cudart-11-2; however:\n",
            "  Package cuda-toolkit-11-config-common is to be removed.\n",
            "  Package cuda-cudart-11-2 is not installed.\n",
            "\n",
            "\u001b[1mdpkg:\u001b[0m error processing package cuda-toolkit-11-config-common (--purge):\n",
            " dependency problems - not removing\n",
            "Errors were encountered while processing:\n",
            " cuda-toolkit-11-config-common\n",
            "\u001b[1mdpkg:\u001b[0m dependency problems prevent removal of cuda-toolkit-config-common:\n",
            " libnvjpeg-11-8 depends on cuda-toolkit-config-common | cuda-cudart-11-2; however:\n",
            "  Package cuda-toolkit-config-common is to be removed.\n",
            "  Package cuda-cudart-11-2 is not installed.\n",
            " libnpp-11-8 depends on cuda-toolkit-config-common | cuda-cudart-11-2; however:\n",
            "  Package cuda-toolkit-config-common is to be removed.\n",
            "  Package cuda-cudart-11-2 is not installed.\n",
            " libcusparse-11-8 depends on cuda-toolkit-config-common | cuda-cudart-11-2; however:\n",
            "  Package cuda-toolkit-config-common is to be removed.\n",
            "  Package cuda-cudart-11-2 is not installed.\n",
            " libcusolver-11-8 depends on cuda-toolkit-config-common | cuda-cudart-11-2; however:\n",
            "  Package cuda-toolkit-config-common is to be removed.\n",
            "  Package cuda-cudart-11-2 is not installed.\n",
            " libcurand-11-8 depends on cuda-toolkit-config-common | cuda-cudart-11-2; however:\n",
            "  Package cuda-toolkit-config-common is to be removed.\n",
            "  Package cuda-cudart-11-2 is not installed.\n",
            " libcufile-11-8 depends on cuda-toolkit-config-common | cuda-cudart-11-2; however:\n",
            "  Package cuda-toolkit-config-common is to be removed.\n",
            "  Package cuda-cudart-11-2 is not installed.\n",
            " libcufft-11-8 depends on cuda-toolkit-config-common | cuda-cudart-11-2; however:\n",
            "  Package cuda-toolkit-config-common is to be removed.\n",
            "  Package cuda-cudart-11-2 is not installed.\n",
            " libcublas-11-8 depends on cuda-toolkit-config-common | cuda-cudart-11-2; however:\n",
            "  Package cuda-toolkit-config-common is to be removed.\n",
            "  Package cuda-cudart-11-2 is not installed.\n",
            " cuda-cudart-11-8 depends on cuda-toolkit-config-common | cuda-cudart-11-2; however:\n",
            "  Package cuda-toolkit-config-common is to be removed.\n",
            "  Package cuda-cudart-11-2 is not installed.\n",
            "\n",
            "\u001b[1mdpkg:\u001b[0m error processing package cuda-toolkit-config-common (--purge):\n",
            " dependency problems - not removing\n",
            "Errors were encountered while processing:\n",
            " cuda-toolkit-config-common\n",
            "Reading package lists... Done\n",
            "Building dependency tree... Done\n",
            "Reading state information... Done\n",
            "E: Unable to locate package cuda\n"
          ]
        }
      ]
    },
    {
      "cell_type": "code",
      "source": [
        "!apt-get -y install cuda-toolkit-10-2"
      ],
      "metadata": {
        "colab": {
          "base_uri": "https://localhost:8080/"
        },
        "id": "CP2bHzCZnqjm",
        "outputId": "b404713c-33af-4b87-b94e-5fb9a1056e77"
      },
      "execution_count": 12,
      "outputs": [
        {
          "output_type": "stream",
          "name": "stdout",
          "text": [
            "Reading package lists... Done\n",
            "Building dependency tree... Done\n",
            "Reading state information... Done\n",
            "E: Unable to locate package cuda-toolkit-10-2\n"
          ]
        }
      ]
    },
    {
      "cell_type": "code",
      "source": [
        "%%cuda --name pcap.cu\n",
        "\n",
        "#define STB_IMAGE_IMPLEMENTATION\n",
        "#define STB_IMAGE_WRITE_IMPLEMENTATION\n",
        "\n",
        "#include <stdio.h>\n",
        "#include <stdlib.h>\n",
        "#include \"stb_image.h\"\n",
        "#include \"stb_image_write.h\"\n",
        "\n",
        "#define HISTOGRAM_SIZE 256  // Define the histogram size\n",
        "\n",
        "// CUDA kernel for calculating histogram\n",
        "__global__ void calculateHistogram(const unsigned char* input, int width, int height, int* histogram) {\n",
        "    int x = blockIdx.x * blockDim.x + threadIdx.x;\n",
        "    int y = blockIdx.y * blockDim.y + threadIdx.y;\n",
        "\n",
        "    if (x < width && y < height) {\n",
        "        atomicAdd(&histogram[input[y * width + x]], 1);\n",
        "    }\n",
        "}\n",
        "\n",
        "// CUDA kernel for histogram equalization\n",
        "__global__ void equalizeHistogram(const unsigned char* input, int width, int height, unsigned char* output, float* cdf, int totalPixels) {\n",
        "    int x = blockIdx.x * blockDim.x + threadIdx.x;\n",
        "    int y = blockIdx.y * blockDim.y + threadIdx.y;\n",
        "\n",
        "    if (x < width && y < height) {\n",
        "        int pixelValue = input[y * width + x];\n",
        "        output[y * width + x] = static_cast<unsigned char>(255.0f * cdf[pixelValue]);\n",
        "    }\n",
        "}\n",
        "\n",
        "// CUDA kernel for RGB to grayscale conversion\n",
        "__global__ void rgbToGrayscale(const unsigned char* rgbImage, int width, int height, unsigned char* grayscaleImage) {\n",
        "    int x = blockIdx.x * blockDim.x + threadIdx.x;\n",
        "    int y = blockIdx.y * blockDim.y + threadIdx.y;\n",
        "\n",
        "    if (x < width && y < height) {\n",
        "        int offset = (y * width + x) * 3;\n",
        "        unsigned char r = rgbImage[offset];\n",
        "        unsigned char g = rgbImage[offset + 1];\n",
        "        unsigned char b = rgbImage[offset + 2];\n",
        "\n",
        "        grayscaleImage[y * width + x] = static_cast<unsigned char>(0.299f * r + 0.587f * g + 0.114f * b);\n",
        "    }\n",
        "}\n",
        "\n",
        "int main() {\n",
        "    // Load the input image (RGB)\n",
        "    int width, height, channels;\n",
        "    unsigned char* input_image = stbi_load(\"Lena.jpeg\", &width, &height, &channels, 0);\n",
        "\n",
        "    if (input_image == NULL) {\n",
        "        printf(\"Failed to load the input image.\\n\");\n",
        "        return 1;\n",
        "    }\n",
        "\n",
        "    // CUDA variables\n",
        "    unsigned char* d_inputImage;\n",
        "    cudaMalloc((void**)&d_inputImage, width * height * channels * sizeof(unsigned char));\n",
        "    cudaMemcpy(d_inputImage, input_image, width * height * channels * sizeof(unsigned char), cudaMemcpyHostToDevice);\n",
        "\n",
        "    // Convert RGB to grayscale\n",
        "    unsigned char* d_grayscaleImage;\n",
        "    cudaMalloc((void**)&d_grayscaleImage, width * height * sizeof(unsigned char));\n",
        "\n",
        "    dim3 rgbToGrayscaleBlockSize(16, 16);\n",
        "    dim3 rgbToGrayscaleGridSize((width + rgbToGrayscaleBlockSize.x - 1) / rgbToGrayscaleBlockSize.x, (height + rgbToGrayscaleBlockSize.y - 1) / rgbToGrayscaleBlockSize.y);\n",
        "\n",
        "    rgbToGrayscale<<<rgbToGrayscaleGridSize, rgbToGrayscaleBlockSize>>>(d_inputImage, width, height, d_grayscaleImage);\n",
        "    cudaDeviceSynchronize();\n",
        "\n",
        "    // Calculate histogram for grayscale image\n",
        "    int histogram[HISTOGRAM_SIZE] = {0};\n",
        "    int* d_histogram;\n",
        "    cudaMalloc((void**)&d_histogram, HISTOGRAM_SIZE * sizeof(int));\n",
        "\n",
        "    dim3 histogramBlockSize(16, 16);\n",
        "    dim3 histogramGridSize((width + histogramBlockSize.x - 1) / histogramBlockSize.x, (height + histogramBlockSize.y - 1) / histogramBlockSize.y);\n",
        "\n",
        "    calculateHistogram<<<histogramGridSize, histogramBlockSize>>>(d_grayscaleImage, width, height, d_histogram);\n",
        "    cudaDeviceSynchronize();\n",
        "\n",
        "    // Copy histogram data back to host if needed\n",
        "    cudaMemcpy(histogram, d_histogram, HISTOGRAM_SIZE * sizeof(int), cudaMemcpyDeviceToHost);\n",
        "\n",
        "    // Calculate cumulative distribution function (CDF)\n",
        "    float cdf[HISTOGRAM_SIZE];\n",
        "    cdf[0] = static_cast<float>(histogram[0]) / (width * height);\n",
        "    for (int i = 1; i < HISTOGRAM_SIZE; ++i) {\n",
        "        cdf[i] = cdf[i - 1] + static_cast<float>(histogram[i]) / (width * height);\n",
        "    }\n",
        "\n",
        "    // Copy CDF to device\n",
        "    float* d_cdf;\n",
        "    cudaMalloc((void**)&d_cdf, HISTOGRAM_SIZE * sizeof(float));\n",
        "    cudaMemcpy(d_cdf, cdf, HISTOGRAM_SIZE * sizeof(float), cudaMemcpyHostToDevice);\n",
        "\n",
        "    // Equalize histogram for grayscale image\n",
        "    unsigned char* d_equalizedImage;\n",
        "    cudaMalloc((void**)&d_equalizedImage, width * height * sizeof(unsigned char));\n",
        "\n",
        "    dim3 equalizeBlockSize(16, 16);\n",
        "    dim3 equalizeGridSize((width + equalizeBlockSize.x - 1) / equalizeBlockSize.x, (height + equalizeBlockSize.y - 1) / equalizeBlockSize.y);\n",
        "\n",
        "    equalizeHistogram<<<equalizeGridSize, equalizeBlockSize>>>(d_grayscaleImage, width, height, d_equalizedImage, d_cdf, width * height);\n",
        "    cudaDeviceSynchronize();\n",
        "\n",
        "    // Copy the result back to the host if needed\n",
        "    unsigned char* h_equalizedImage = new unsigned char[width * height];\n",
        "    cudaMemcpy(h_equalizedImage, d_equalizedImage, width * height * sizeof(unsigned char), cudaMemcpyDeviceToHost);\n",
        "\n",
        "    // Save the equalized image (replace with actual saving code)\n",
        "    stbi_write_jpg(\"output_equalized.jpg\", width, height, 1, h_equalizedImage, 100);\n",
        "\n",
        "    // Clean up resources\n",
        "    stbi_image_free(input_image);\n",
        "    delete[] h_equalizedImage;\n",
        "    cudaFree(d_inputImage);\n",
        "    cudaFree(d_grayscaleImage);\n",
        "    cudaFree(d_histogram);\n",
        "    cudaFree(d_cdf);\n",
        "    cudaFree(d_equalizedImage);\n",
        "\n",
        "    return 0;\n",
        "}\n"
      ],
      "metadata": {
        "colab": {
          "base_uri": "https://localhost:8080/",
          "height": 36
        },
        "id": "K8JhEKBvoXm4",
        "outputId": "c2ee41ed-2aa2-470c-985c-126042c98226"
      },
      "execution_count": 29,
      "outputs": [
        {
          "output_type": "execute_result",
          "data": {
            "text/plain": [
              "'File written in /content/src/pcap.cu'"
            ],
            "application/vnd.google.colaboratory.intrinsic+json": {
              "type": "string"
            }
          },
          "metadata": {},
          "execution_count": 29
        }
      ]
    },
    {
      "cell_type": "code",
      "source": [
        "!nvcc -o /content/src/pcap.out /content/src/pcap.cu -I."
      ],
      "metadata": {
        "colab": {
          "base_uri": "https://localhost:8080/"
        },
        "id": "nzUAcKTiodu4",
        "outputId": "0a0e43e1-b6ac-4091-b289-6d3f67505e33"
      },
      "execution_count": 30,
      "outputs": [
        {
          "output_type": "stream",
          "name": "stdout",
          "text": [
            "\u001b[01m\u001b[0m\u001b[01m./stb_image.h(4262)\u001b[0m: \u001b[01;35mwarning\u001b[0m #550-D: variable \u001b[01m\"old_limit\"\u001b[0m was set but never used\n",
            "\n",
            "\u001b[01m\u001b[0m\u001b[01m./stb_image.h(5184)\u001b[0m: \u001b[01;35mwarning\u001b[0m #550-D: variable \u001b[01m\"idata_limit_old\"\u001b[0m was set but never used\n",
            "\n",
            "\u001b[01m\u001b[0m\u001b[01m./stb_image.h(6971)\u001b[0m: \u001b[01;35mwarning\u001b[0m #550-D: variable \u001b[01m\"out_size\"\u001b[0m was set but never used\n",
            "\n",
            "\u001b[01m\u001b[0m\u001b[01m./stb_image.h(6972)\u001b[0m: \u001b[01;35mwarning\u001b[0m #550-D: variable \u001b[01m\"delays_size\"\u001b[0m was set but never used\n",
            "\n"
          ]
        }
      ]
    },
    {
      "cell_type": "code",
      "source": [
        "!/content/src/pcap.out"
      ],
      "metadata": {
        "id": "_Up8grWmohjV"
      },
      "execution_count": 31,
      "outputs": []
    }
  ],
  "metadata": {
    "colab": {
      "provenance": [],
      "gpuType": "T4",
      "mount_file_id": "1nj0rhb9p3Ki6KpLg5tfej53uuvuz-nO7",
      "authorship_tag": "ABX9TyOWNGnGGo+TnNnJ6FOAvc/u",
      "include_colab_link": true
    },
    "kernelspec": {
      "display_name": "Python 3",
      "name": "python3"
    },
    "language_info": {
      "name": "python"
    },
    "accelerator": "GPU"
  },
  "nbformat": 4,
  "nbformat_minor": 0
}